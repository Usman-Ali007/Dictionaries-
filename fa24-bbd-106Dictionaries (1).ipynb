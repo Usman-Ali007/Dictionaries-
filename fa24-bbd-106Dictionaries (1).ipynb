{
 "cells": [
  {
   "cell_type": "code",
   "execution_count": 1,
   "id": "c8e73187-ca0b-45d8-abfd-60a23a5c2bd5",
   "metadata": {},
   "outputs": [],
   "source": [
    "#Practice Exercises:\n",
    "#a) Create a dictionary to store information about a person (name, age, city, hobbies)."
   ]
  },
  {
   "cell_type": "code",
   "execution_count": 1,
   "id": "7cb02217-d9b5-46ac-bd89-112e260e9f68",
   "metadata": {},
   "outputs": [
    {
     "name": "stdout",
     "output_type": "stream",
     "text": [
      "{'name': 'Usman Ali', 'age': 19, 'city': 'Lahore', 'hobbies': 'football'}\n"
     ]
    }
   ],
   "source": [
    "person = {\n",
    "    \"name\": \"Usman Ali\",\n",
    "    \"age\": 19,\n",
    "    \"city\": \"Lahore\",\n",
    "    \"hobbies\": \"football\"\n",
    "}\n",
    "print(person)\n"
   ]
  },
  {
   "cell_type": "code",
   "execution_count": 2,
   "id": "f709b793-05a8-40eb-9e5a-c198bab76bdb",
   "metadata": {},
   "outputs": [
    {
     "name": "stdin",
     "output_type": "stream",
     "text": [
      "Enter a paragraph of text:  124124321324sdfsd\n"
     ]
    },
    {
     "name": "stdout",
     "output_type": "stream",
     "text": [
      "\n",
      "Word Frequencies:\n",
      "124124321324sdfsd: 1\n"
     ]
    }
   ],
   "source": [
    "#b)\n",
    "\n",
    "def counting_word_frequency(text):\n",
    "    word_frequencies = {}\n",
    "    \n",
    "    for punctuation_mark in \",.?!;:-'\\\"\":\n",
    "        text = text.replace(punctuation_mark, \"\")\n",
    "    text = text.lower()\n",
    "    word_list = text.split()\n",
    "    \n",
    "    for word in word_list:\n",
    "        if word in word_frequencies:\n",
    "            word_frequencies[word] += 1\n",
    "        else:\n",
    "            word_frequencies[word] = 1\n",
    "    \n",
    "    return word_frequencies\n",
    "\n",
    "if __name__ == \"__main__\":\n",
    "    input_text = input(\"Enter a paragraph of text: \")\n",
    "    frequency_result = counting_word_frequency(input_text)\n",
    "    \n",
    "    print(\"\\nWord Frequencies:\")\n",
    "    for word, count in frequency_result.items():\n",
    "        print(f\"{word}: {count}\")"
   ]
  },
  {
   "cell_type": "code",
   "execution_count": 5,
   "id": "64fa3835-d859-494a-9206-d1e6a9b22e05",
   "metadata": {},
   "outputs": [
    {
     "name": "stdout",
     "output_type": "stream",
     "text": [
      "1-To enter Good's name and value\n",
      "2- To Delete from list\n",
      "3-To leave it\n",
      "4-if u want to see your current list\n",
      "5-if u want to clear your current list\n"
     ]
    },
    {
     "name": "stdin",
     "output_type": "stream",
     "text": [
      " 3\n"
     ]
    },
    {
     "name": "stdout",
     "output_type": "stream",
     "text": [
      "1- if u changed ur mind\n",
      "2- Exit\n"
     ]
    },
    {
     "name": "stdin",
     "output_type": "stream",
     "text": [
      " 2\n"
     ]
    },
    {
     "name": "stdout",
     "output_type": "stream",
     "text": [
      "1-To enter Good's name and value\n",
      "2- To Delete from list\n",
      "3-To leave it\n",
      "4-if u want to see your current list\n",
      "5-if u want to clear your current list\n"
     ]
    },
    {
     "name": "stdin",
     "output_type": "stream",
     "text": [
      " 3\n"
     ]
    },
    {
     "name": "stdout",
     "output_type": "stream",
     "text": [
      "1- if u changed ur mind\n",
      "2- Exit\n"
     ]
    },
    {
     "name": "stdin",
     "output_type": "stream",
     "text": [
      " 2\n"
     ]
    },
    {
     "name": "stdout",
     "output_type": "stream",
     "text": [
      "1-To enter Good's name and value\n",
      "2- To Delete from list\n",
      "3-To leave it\n",
      "4-if u want to see your current list\n",
      "5-if u want to clear your current list\n"
     ]
    },
    {
     "ename": "KeyboardInterrupt",
     "evalue": "Interrupted by user",
     "output_type": "error",
     "traceback": [
      "\u001b[1;31m---------------------------------------------------------------------------\u001b[0m",
      "\u001b[1;31mKeyboardInterrupt\u001b[0m                         Traceback (most recent call last)",
      "Cell \u001b[1;32mIn[5], line 11\u001b[0m\n\u001b[0;32m      9\u001b[0m \u001b[38;5;28mprint\u001b[39m(\u001b[38;5;124mf\u001b[39m\u001b[38;5;124m\"\u001b[39m\u001b[38;5;124m4-if u want to see your current list\u001b[39m\u001b[38;5;124m\"\u001b[39m)\n\u001b[0;32m     10\u001b[0m \u001b[38;5;28mprint\u001b[39m(\u001b[38;5;124mf\u001b[39m\u001b[38;5;124m\"\u001b[39m\u001b[38;5;124m5-if u want to clear your current list\u001b[39m\u001b[38;5;124m\"\u001b[39m)\n\u001b[1;32m---> 11\u001b[0m user \u001b[38;5;241m=\u001b[39m \u001b[38;5;28mint\u001b[39m(\u001b[38;5;28minput\u001b[39m(\u001b[38;5;124m\"\u001b[39m\u001b[38;5;124m\"\u001b[39m))\n\u001b[0;32m     12\u001b[0m \u001b[38;5;28;01mif\u001b[39;00m user \u001b[38;5;241m==\u001b[39m \u001b[38;5;241m5\u001b[39m:\n\u001b[0;32m     13\u001b[0m     list_1 \u001b[38;5;241m=\u001b[39m {}\n",
      "File \u001b[1;32m~\\anaconda3\\Lib\\site-packages\\ipykernel\\kernelbase.py:1262\u001b[0m, in \u001b[0;36mKernel.raw_input\u001b[1;34m(self, prompt)\u001b[0m\n\u001b[0;32m   1260\u001b[0m     msg \u001b[38;5;241m=\u001b[39m \u001b[38;5;124m\"\u001b[39m\u001b[38;5;124mraw_input was called, but this frontend does not support input requests.\u001b[39m\u001b[38;5;124m\"\u001b[39m\n\u001b[0;32m   1261\u001b[0m     \u001b[38;5;28;01mraise\u001b[39;00m StdinNotImplementedError(msg)\n\u001b[1;32m-> 1262\u001b[0m \u001b[38;5;28;01mreturn\u001b[39;00m \u001b[38;5;28mself\u001b[39m\u001b[38;5;241m.\u001b[39m_input_request(\n\u001b[0;32m   1263\u001b[0m     \u001b[38;5;28mstr\u001b[39m(prompt),\n\u001b[0;32m   1264\u001b[0m     \u001b[38;5;28mself\u001b[39m\u001b[38;5;241m.\u001b[39m_parent_ident[\u001b[38;5;124m\"\u001b[39m\u001b[38;5;124mshell\u001b[39m\u001b[38;5;124m\"\u001b[39m],\n\u001b[0;32m   1265\u001b[0m     \u001b[38;5;28mself\u001b[39m\u001b[38;5;241m.\u001b[39mget_parent(\u001b[38;5;124m\"\u001b[39m\u001b[38;5;124mshell\u001b[39m\u001b[38;5;124m\"\u001b[39m),\n\u001b[0;32m   1266\u001b[0m     password\u001b[38;5;241m=\u001b[39m\u001b[38;5;28;01mFalse\u001b[39;00m,\n\u001b[0;32m   1267\u001b[0m )\n",
      "File \u001b[1;32m~\\anaconda3\\Lib\\site-packages\\ipykernel\\kernelbase.py:1305\u001b[0m, in \u001b[0;36mKernel._input_request\u001b[1;34m(self, prompt, ident, parent, password)\u001b[0m\n\u001b[0;32m   1302\u001b[0m \u001b[38;5;28;01mexcept\u001b[39;00m \u001b[38;5;167;01mKeyboardInterrupt\u001b[39;00m:\n\u001b[0;32m   1303\u001b[0m     \u001b[38;5;66;03m# re-raise KeyboardInterrupt, to truncate traceback\u001b[39;00m\n\u001b[0;32m   1304\u001b[0m     msg \u001b[38;5;241m=\u001b[39m \u001b[38;5;124m\"\u001b[39m\u001b[38;5;124mInterrupted by user\u001b[39m\u001b[38;5;124m\"\u001b[39m\n\u001b[1;32m-> 1305\u001b[0m     \u001b[38;5;28;01mraise\u001b[39;00m \u001b[38;5;167;01mKeyboardInterrupt\u001b[39;00m(msg) \u001b[38;5;28;01mfrom\u001b[39;00m \u001b[38;5;28;01mNone\u001b[39;00m\n\u001b[0;32m   1306\u001b[0m \u001b[38;5;28;01mexcept\u001b[39;00m \u001b[38;5;167;01mException\u001b[39;00m:\n\u001b[0;32m   1307\u001b[0m     \u001b[38;5;28mself\u001b[39m\u001b[38;5;241m.\u001b[39mlog\u001b[38;5;241m.\u001b[39mwarning(\u001b[38;5;124m\"\u001b[39m\u001b[38;5;124mInvalid Message:\u001b[39m\u001b[38;5;124m\"\u001b[39m, exc_info\u001b[38;5;241m=\u001b[39m\u001b[38;5;28;01mTrue\u001b[39;00m)\n",
      "\u001b[1;31mKeyboardInterrupt\u001b[0m: Interrupted by user"
     ]
    }
   ],
   "source": [
    "#Implementing a simple inventory system using dictionaries.\n",
    "#using the same process above to make dictionary of user choice\n",
    "#using while loop to get value from user again and again and storing it in dictionary\n",
    "list_1 = {}\n",
    "while True:\n",
    "    print(f\"1-To enter Good's name and value\")\n",
    "    print(f\"2- To Delete from list\")\n",
    "    print(f\"3-To leave it\")\n",
    "    print(f\"4-if u want to see your current list\")\n",
    "    print(f\"5-if u want to clear your current list\")\n",
    "    user = int(input(\"\"))\n",
    "    if user == 5:\n",
    "        list_1 = {}\n",
    "    elif user == 4:\n",
    "        for u, i in list_1.items():\n",
    "            print(u, i)\n",
    "    elif user == 3:\n",
    "        print(f\"1- if u changed ur mind\")\n",
    "        print(f\"2- Exit\")\n",
    "        user0 = input(\"\")\n",
    "    if user0 == 2:\n",
    "        print(\"ok, exitting\")\n",
    "        break\n",
    "    elif user == 2:\n",
    "        for u, i in list_1.items:\n",
    "            print(u, i)\n",
    "        user1=input(f\"Enter Good Name to Remove\")\n",
    "        print(f\"1- If you really want to remove it\")\n",
    "        print(f\"2- If you don't want to remove it\")\n",
    "        user2 = int(input(\"\"))\n",
    "        if user2 == 1:\n",
    "            del list_1[user1]\n",
    "    elif user ==1:\n",
    "        good = input(\"Good(s) Name: \")\n",
    "        num = int(input(\"No. of Good(s)\"))\n",
    "        if good in list_1:\n",
    "            print(\"Already in the list\")\n",
    "            print(f\"1-Modify it\")\n",
    "            print(f\"2-Donot Modify it\")\n",
    "            user3 = int(input(\"\"))\n",
    "            if user3==2:\n",
    "                continue\n",
    "            if user3==1:\n",
    "                list_1[good]=num\n",
    "print(f\"1-if u want to see your list\")\n",
    "print(f\"2- leave it\")\n",
    "user4= int(input(f'1/2: '))\n",
    "if user4 == 1:\n",
    "    for u, i in list_1.items():\n",
    "        print(u, i)"
   ]
  },
  {
   "cell_type": "code",
   "execution_count": 5,
   "id": "6f55010b-e907-42fc-8934-1a8fc905ec10",
   "metadata": {},
   "outputs": [
    {
     "name": "stdout",
     "output_type": "stream",
     "text": [
      "{'Electronics': 18, 'Books': 20, 'Clothing': 30}\n",
      "The most popular product category is 'Clothing' with a total quantity of 30.\n"
     ]
    }
   ],
   "source": [
    "#d)\n",
    "\n",
    "def find_most_popular_category(orders):\n",
    "    category_count = {} # dictionary initialized\n",
    "\n",
    "    for order in orders: # orders is the list of dictionaries\n",
    "        category = order['category']\n",
    "        quantity = order['quantity']\n",
    "        \n",
    "        category_count[category] = category_count.get(category, 0)  + quantity\n",
    "        \n",
    "    print(category_count)\n",
    "    most_popular_category = max(category_count, key=category_count.get)\n",
    "    max_quantity = category_count[most_popular_category]\n",
    "\n",
    "    return most_popular_category, max_quantity\n",
    "\n",
    "    \n",
    "orders_data = [\n",
    "    {'category': 'Electronics', 'quantity': 10},\n",
    "    {'category': 'Books', 'quantity': 5},\n",
    "    {'category': 'Clothing', 'quantity': 20},\n",
    "    {'category': 'Books', 'quantity': 15},\n",
    "    {'category': 'Electronics', 'quantity': 8},\n",
    "    {'category': 'Clothing', 'quantity': 10},\n",
    "]\n",
    "\n",
    "popular_category, quantity = find_most_popular_category(orders_data)\n",
    "\n",
    "print(f\"The most popular product category is '{popularcategory}' with a total quantity of {quantity}.\")"
   ]
  },
  {
   "cell_type": "code",
   "execution_count": 12,
   "id": "969a11c9-5efa-4b4d-ac8d-3397b09ba8bc",
   "metadata": {},
   "outputs": [
    {
     "name": "stdout",
     "output_type": "stream",
     "text": [
      "83.33333333333333\n"
     ]
    }
   ],
   "source": [
    "#e)\n",
    "\n",
    "grades = {\n",
    "\t\"student1\": 70,\n",
    "    \"student2\": 80,\n",
    "    \"student3\": 100,\n",
    "    }\n",
    "    \n",
    "y = len(grades)\n",
    "x = sum(grades.values())\n",
    "average = x/y\n",
    "\n",
    "print(average)"
   ]
  },
  {
   "cell_type": "code",
   "execution_count": 134,
   "id": "a5edd611-2395-47df-b492-cf27404f9639",
   "metadata": {},
   "outputs": [
    {
     "name": "stdout",
     "output_type": "stream",
     "text": [
      "1. Add New Product\n",
      "2. Update Product Quantity\n",
      "3. Calculate Total Inventory Value\n",
      "4. Display Products\n",
      "5. Generate Low Stock Report\n",
      "6. Exit\n"
     ]
    },
    {
     "name": "stdin",
     "output_type": "stream",
     "text": [
      "Enter your choice (1-6):  6\n"
     ]
    },
    {
     "name": "stdout",
     "output_type": "stream",
     "text": [
      "Exiting the program.\n"
     ]
    }
   ],
   "source": [
    "#f)\n",
    "products = {}\n",
    "\n",
    "def add_product(name, quantity, price):\n",
    "    if name in products:\n",
    "        print(f\"Product '{name}' already exists. Use update_quantity to modify.\")\n",
    "    else:\n",
    "        products[name] = {'quantity': quantity, 'price': price}\n",
    "        print(f\"Product '{name}' added successfully.\")\n",
    "\n",
    "def update_quantity(name, quantity):\n",
    "    if name in products:\n",
    "        products[name]['quantity'] += quantity\n",
    "        print(f\"Updated quantity of '{name}' to {products[name]['quantity']}.\")\n",
    "    else:\n",
    "        print(f\"Product '{name}' does not exist. Use add_product to add it first.\")\n",
    "\n",
    "def calculate_total_value():\n",
    "    total_value = 0\n",
    "    for product, details in products.items():\n",
    "        total_value += details['quantity'] * details['price']\n",
    "    return total_value\n",
    "\n",
    "def low_stock_report(threshold):\n",
    "    low_stock_items = []\n",
    "    for product, details in products.items():\n",
    "        if details['quantity'] <= threshold:\n",
    "            low_stock_items.append(f\"Product: {product}, Quantity: {details['quantity']}, Price: ${details['price']:.2f}\")\n",
    "    \n",
    "    if low_stock_items:\n",
    "        print(\"\\nLow Stock Report (Products with quantity <= threshold):\")\n",
    "        for item in low_stock_items:\n",
    "            print(item)\n",
    "    else:\n",
    "        print(\"No products are low on stock.\")\n",
    "\n",
    "def display_products():\n",
    "    if products:\n",
    "        print(\"\\nCurrent Products:\")\n",
    "        for product, details in products.items():\n",
    "            print(f\"Name: {product}, Quantity: {details['quantity']}, Price: ${details['price']:.2f}\")\n",
    "    else:\n",
    "        print(\"No products available.\")\n",
    "\n",
    "while True:\n",
    "    print(\"1. Add New Product\")\n",
    "    print(\"2. Update Product Quantity\")\n",
    "    print(\"3. Calculate Total Inventory Value\")\n",
    "    print(\"4. Display Products\")\n",
    "    print(\"5. Generate Low Stock Report\")\n",
    "    print(\"6. Exit\")\n",
    "\n",
    "    choice = input(\"Enter your choice (1-6): \")\n",
    "\n",
    "    if choice == '1':\n",
    "        name = input(\"Enter product name: \")\n",
    "        quantity = int(input(\"Enter product quantity: \"))\n",
    "        price = float(input(\"Enter product price: \"))\n",
    "        add_product(name, quantity, price)\n",
    "    elif choice == '2':\n",
    "        name = input(\"Enter product name: \")\n",
    "        quantity = int(input(\"Enter quantity to add: \"))\n",
    "        update_quantity(name, quantity)\n",
    "    elif choice == '3':\n",
    "        total_value = calculate_total_value()\n",
    "        print(f\"Total inventory value: ${total_value:.2f}\")\n",
    "    elif choice == '4':\n",
    "        display_products()\n",
    "    elif choice == '5':\n",
    "        threshold = int(input(\"Enter the threshold quantity for low stock report: \"))\n",
    "        low_stock_report(threshold)\n",
    "    elif choice == '6':\n",
    "        print(\"Exiting the program.\")\n",
    "        break\n",
    "    else:\n",
    "        print(\"Invalid choice. Please try again.\")\n"
   ]
  },
  {
   "cell_type": "code",
   "execution_count": 1,
   "id": "5fc2a524-7dba-4237-ad32-a3a7aeda2ec6",
   "metadata": {},
   "outputs": [
    {
     "name": "stdout",
     "output_type": "stream",
     "text": [
      "Usman's Average Grade: 88.33\n",
      "Shaheer's Average Grade: 84.33\n",
      "Ali's Average Grade: 89.00\n",
      "\n",
      "Top score in Math: Ali with 92\n",
      "Bottom score in Math: Shaheer with 78\n",
      "\n",
      "Students sorted by average grade:\n",
      "Ali: 89.00\n",
      "Usman: 88.33\n",
      "Shaheer: 84.33\n"
     ]
    }
   ],
   "source": [
    "#g)\n",
    "students_data = {}\n",
    "\n",
    "def add_student(student_name, grades_dict):\n",
    "    students_data[student_name] = grades_dict\n",
    "\n",
    "def calculate_avg(student_name):\n",
    "    grades = students_data.get(student_name)\n",
    "    return sum(grades.values()) / len(grades) if grades else 0\n",
    "\n",
    "def find_top_and_bottom(subject_name):\n",
    "    top_score = bottom_score = None\n",
    "    top_student = bottom_student = \"\"\n",
    "    \n",
    "    for student, grades in students_data.items():\n",
    "        score = grades.get(subject_name)\n",
    "        if score is not None:\n",
    "            if top_score is None or score > top_score:\n",
    "                top_score, top_student = score, student\n",
    "            if bottom_score is None or score < bottom_score:\n",
    "                bottom_score, bottom_student = score, student\n",
    "    \n",
    "    return (top_student, top_score), (bottom_student, bottom_score)\n",
    "\n",
    "def sort_by_avg_grade():\n",
    "    sorted_list = sorted(students_data.items(), key=lambda student: sum(student[1].values()) / len(student[1]), reverse=True)\n",
    "    return sorted_list\n",
    "\n",
    "add_student(\"Usman\", {\"Math\": 85, \"Science\": 92, \"History\": 88})\n",
    "add_student(\"Shaheer\", {\"Math\": 78, \"Science\": 85, \"History\": 90})\n",
    "add_student(\"Ali\", {\"Math\": 92, \"Science\": 91, \"History\": 84})\n",
    "\n",
    "for student in students_data:\n",
    "    avg = calculate_avg(student)\n",
    "    print(f\"{student}'s Average Grade: {avg:.2f}\")\n",
    "\n",
    "top, bottom = find_top_and_bottom(\"Math\")\n",
    "print(f\"\\nTop score in Math: {top[0]} with {top[1]}\")\n",
    "print(f\"Bottom score in Math: {bottom[0]} with {bottom[1]}\")\n",
    "\n",
    "sorted_students = sort_by_avg_grade()\n",
    "print(\"\\nStudents sorted by average grade:\")\n",
    "for student, _ in sorted_students:\n",
    "    avg = calculate_avg(student)\n",
    "    print(f\"{student}: {avg:.2f}\")\n"
   ]
  },
  {
   "cell_type": "code",
   "execution_count": 138,
   "id": "1906a25e-5ce2-46a9-8d54-7a76d57783be",
   "metadata": {},
   "outputs": [
    {
     "name": "stdout",
     "output_type": "stream",
     "text": [
      "Total cost: $1555.20\n"
     ]
    }
   ],
   "source": [
    "#h)\n",
    "inventory = {\n",
    "    \"Laptop\": {\"price\": 800, \"stock\": 10},\n",
    "    \"Headphones\": {\"price\": 100, \"stock\": 20},\n",
    "    \"Smartphone\": {\"price\": 500, \"stock\": 15},\n",
    "    \"Keyboard\": {\"price\": 50, \"stock\": 30}\n",
    "}\n",
    "\n",
    "cart = {}\n",
    "\n",
    "def add_to_cart(item, quantity):\n",
    "    if item in inventory and inventory[item][\"stock\"] >= quantity:\n",
    "        if item in cart:\n",
    "            cart[item][\"quantity\"] += quantity\n",
    "        else:\n",
    "            cart[item] = {\"price\": inventory[item][\"price\"], \"quantity\": quantity}\n",
    "        inventory[item][\"stock\"] -= quantity\n",
    "    else:\n",
    "        print(f\"Cannot add {quantity} {item}(s)\")\n",
    "\n",
    "def remove_from_cart(item, quantity):\n",
    "    if item in cart and cart[item][\"quantity\"] >= quantity:\n",
    "        cart[item][\"quantity\"] -= quantity\n",
    "        inventory[item][\"stock\"] += quantity\n",
    "        if cart[item][\"quantity\"] == 0:\n",
    "            del cart[item]\n",
    "    else:\n",
    "        print(f\"Cannot remove {quantity} {item}(s)\")\n",
    "\n",
    "def get_total():\n",
    "    return sum(cart[item][\"price\"] * cart[item][\"quantity\"] for item in cart)\n",
    "\n",
    "def checkout(discount=0, tax=0):\n",
    "    total = get_total()\n",
    "    total -= total * (discount / 100)\n",
    "    total += total * (tax / 100)\n",
    "    return total\n",
    "\n",
    "add_to_cart(\"Laptop\", 2)\n",
    "add_to_cart(\"Headphones\", 1)\n",
    "remove_from_cart(\"Headphones\", 1)\n",
    "print(f\"Total cost: ${checkout(discount=10, tax=8):.2f}\")"
   ]
  },
  {
   "cell_type": "code",
   "execution_count": null,
   "id": "2dee4270-9c5c-4e0e-9812-a0de3119c980",
   "metadata": {},
   "outputs": [],
   "source": []
  }
 ],
 "metadata": {
  "kernelspec": {
   "display_name": "Python 3 (ipykernel)",
   "language": "python",
   "name": "python3"
  },
  "language_info": {
   "codemirror_mode": {
    "name": "ipython",
    "version": 3
   },
   "file_extension": ".py",
   "mimetype": "text/x-python",
   "name": "python",
   "nbconvert_exporter": "python",
   "pygments_lexer": "ipython3",
   "version": "3.12.7"
  }
 },
 "nbformat": 4,
 "nbformat_minor": 5
}
